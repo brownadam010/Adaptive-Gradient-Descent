{
 "cells": [
  {
   "cell_type": "code",
   "execution_count": 24,
   "metadata": {},
   "outputs": [],
   "source": [
    "#import python packages\n",
    "import numpy as np\n",
    "from matplotlib import pyplot as plt\n",
    "import seaborn as sns\n",
    "%matplotlib inline"
   ]
  },
  {
   "cell_type": "code",
   "execution_count": 25,
   "metadata": {},
   "outputs": [],
   "source": [
    "#define the x's range for plotting\n",
    "x=np.arange(-120, 80, 0.1)"
   ]
  },
  {
   "cell_type": "code",
   "execution_count": 26,
   "metadata": {},
   "outputs": [],
   "source": [
    "#define f(x) based on the function \n",
    "def f(x): \n",
    "    return x**4+200*(x+2000)**2+10000"
   ]
  },
  {
   "cell_type": "code",
   "execution_count": 27,
   "metadata": {},
   "outputs": [
    {
     "data": {
      "text/plain": [
       "[<matplotlib.lines.Line2D at 0x7f6a1d3ed450>]"
      ]
     },
     "execution_count": 27,
     "metadata": {},
     "output_type": "execute_result"
    },
    {
     "data": {
      "image/png": "[encoded data removed]",
      "text/plain": [
       "<Figure size 432x288 with 1 Axes>"
      ]
     },
     "metadata": {
      "needs_background": "light"
     },
     "output_type": "display_data"
    }
   ],
   "source": [
    "#plot x vs. f(x)\n",
    "plt.plot(x,f(x))"
   ]
  },
  {
   "cell_type": "code",
   "execution_count": 28,
   "metadata": {},
   "outputs": [],
   "source": [
    "#define the derivative of f(x) over x ---> f'(x)\n",
    "def derivative(x):\n",
    "    return 4*x**3+400*(x+2000)"
   ]
  },
  {
   "cell_type": "code",
   "execution_count": 35,
   "metadata": {},
   "outputs": [],
   "source": [
    "#define a function to find the minimum of f(x) \n",
    "def find_optimum(x_old,x_new,gamma,precisions):\n",
    "    # store each update in x_search\n",
    "    x_search = [x_new]\n",
    "\n",
    "    #keep searchhing until the values converge within the precision\n",
    "    while abs(x_new - x_old) > precisions :\n",
    "        # use x_old to keep the x value before the update\n",
    "        x_old = x_new\n",
    "        \n",
    "        # update x_new\n",
    "        x_new = x_old - (gamma * derivative(x_old))\n",
    "            \n",
    "        # record the udpates in x_search array\n",
    "        x_search.append(x_new)\n",
    "    \n",
    "    #print out the result and plot the decreasing trend of f(x) vs iternations\n",
    "    print(str(len(x_search)) + \" iterations\")\n",
    "    print(\"The local minimum occurs at \" + str(x_new))\n",
    "    print(\"Gamma: \" + str(gamma))\n",
    "    # change x_search array to np array for plotting\n",
    "    x_search = np.array(x_search)\n",
    "    plt.plot(x_search, f(x_search))"
   ]
  },
  {
   "cell_type": "code",
   "execution_count": 36,
   "metadata": {},
   "outputs": [
    {
     "name": "stdout",
     "output_type": "stream",
     "text": [
      "779 iterations\n",
      "The local minimum occurs at -57.9103810074016\n",
      "Gamma: 1e-06\n"
     ]
    },
    {
     "data": {
      "image/png": "[encoded data removed]",
      "text/plain": [
       "<Figure size 432x288 with 1 Axes>"
      ]
     },
     "metadata": {
      "needs_background": "light"
     },
     "output_type": "display_data"
    }
   ],
   "source": [
    "x_old = 70 # old value\n",
    "x_new = 50 # new value\n",
    "gamma = 0.000001  # gamma value which is a guess for now\n",
    "precision = 1e-12 # precision point\n",
    "find_optimum(x_old,x_new,gamma,precision)  #call the function "
   ]
  },
  {
   "cell_type": "code",
   "execution_count": 37,
   "metadata": {},
   "outputs": [],
   "source": [
    "def adaptive_optimum(x_old, x_new, gamma, t, precision):\n",
    "    \n",
    "    #nextIter is the flag for continuing or stopping the loop\n",
    "    nextIter = True\n",
    "    \n",
    "    #keep searching until nextIter is set to false\n",
    "    while nextIter:\n",
    "        \n",
    "        #decrease the value of gamma in each iteration\n",
    "        gamma *= t\n",
    "        \n",
    "        #create a local copy of x_old and x_new in each iteration\n",
    "        #it's because we can want any change to x_new and x_old to \n",
    "        #affect the calculation in the next iternation \n",
    "        x_old_try = x_old \n",
    "        x_new_try = x_new \n",
    "        \n",
    "        #try 10000 times to see if x converges\n",
    "        for i in range(10000):\n",
    "            #use x_old_try to keep the value of x before the update\n",
    "            x_old_try = x_new_try          \n",
    "            \n",
    "            try:\n",
    "                # update x_new_try with the new gamma value\n",
    "                x_new_try = x_old_try - (gamma * derivative(x_old_try))\n",
    "                \n",
    "                # if the new gamma values are less than precision print output make iteration false \n",
    "                # and break the loop all together.\n",
    "                if abs(x_new_try - x_old_try) < precision:\n",
    "                    print(\"Found gamma: {:0.4e}\".format(gamma))\n",
    "                    print(\"The minimum is at: x = \" + str(round(x_new_try, 2)))\n",
    "                    print(\"The minimum of f(x) is: {:0.3e}\".format(f(x_new_try)))\n",
    "                    nextIter = False\n",
    "                    break              \n",
    "                \n",
    "            # if there is an error, such as \"value too large\" error, stop the\n",
    "            # iternation and try next gamma\n",
    "            except:                          \n",
    "                break "
   ]
  },
  {
   "cell_type": "code",
   "execution_count": 38,
   "metadata": {},
   "outputs": [
    {
     "name": "stdout",
     "output_type": "stream",
     "text": [
      "Found gamma: 4.4982e-05\n",
      "The minimum is at: x = -57.91\n",
      "The minimum of f(x) is: 7.656e+08\n"
     ]
    }
   ],
   "source": [
    "x_old = 70 # old value\n",
    "x_new = 50 # new value\n",
    "\n",
    "# precision point\n",
    "precision = 1e-12\n",
    "\n",
    "# decrease rate of gamma\n",
    "t=0.9\n",
    "\n",
    "# gamma value, set high\n",
    "gamma = 1\n",
    "\n",
    "#call the function\n",
    "adaptive_optimum(x_old, x_new, gamma, t, precision)"
   ]
  },
  {
   "cell_type": "code",
   "execution_count": null,
   "metadata": {},
   "outputs": [],
   "source": []
  }
 ],
 "metadata": {
  "kernelspec": {
   "display_name": "Python 3",
   "language": "python",
   "name": "python3"
  },
  "language_info": {
   "codemirror_mode": {
    "name": "ipython",
    "version": 3
   },
   "file_extension": ".py",
   "mimetype": "text/x-python",
   "name": "python",
   "nbconvert_exporter": "python",
   "pygments_lexer": "ipython3",
   "version": "3.7.6"
  }
 },
 "nbformat": 4,
 "nbformat_minor": 4
}
